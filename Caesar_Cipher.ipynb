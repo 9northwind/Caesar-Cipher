{
  "nbformat": 4,
  "nbformat_minor": 0,
  "metadata": {
    "colab": {
      "provenance": [],
      "authorship_tag": "ABX9TyO3auF/LZ83WeRsq7+7r9kh",
      "include_colab_link": true
    },
    "kernelspec": {
      "name": "python3",
      "display_name": "Python 3"
    },
    "language_info": {
      "name": "python"
    }
  },
  "cells": [
    {
      "cell_type": "markdown",
      "metadata": {
        "id": "view-in-github",
        "colab_type": "text"
      },
      "source": [
        "<a href=\"https://colab.research.google.com/github/9northwind/Caesar-Cipher/blob/main/Caesar_Cipher.ipynb\" target=\"_parent\"><img src=\"https://colab.research.google.com/assets/colab-badge.svg\" alt=\"Open In Colab\"/></a>"
      ]
    },
    {
      "cell_type": "code",
      "execution_count": null,
      "metadata": {
        "colab": {
          "base_uri": "https://localhost:8080/"
        },
        "id": "3uj7agqSkCiL",
        "outputId": "cdcd009b-6266-441e-9be3-0116bbca1a7b"
      },
      "outputs": [
        {
          "name": "stdout",
          "output_type": "stream",
          "text": [
            "Do you want to encrypt or decrypt:\n",
            "hello world\n",
            "Invalid entry\n",
            "Do you want to encrypt or decrypt:\n",
            "encrypt\n",
            "Enter the text:\n",
            "hello World\n",
            "Enter shift value:\n",
            "1000\n",
            "The encrypted text is:\n",
            "tqxxa^Iadxp\n",
            "Continue?(Yes\\No):\n",
            "yes\n",
            "Do you want to encrypt or decrypt:\n",
            "decrypt\n",
            "Enter the text:\n",
            "tqxxa^Iadxp\n",
            "Enter shift value:\n",
            "1000\n",
            "The decrypted text is:\n",
            "hello World\n",
            "Continue?(Yes\\No):\n",
            "no\n"
          ]
        }
      ],
      "source": [
        "upalp = ['A', 'B', 'C', 'D', 'E', 'F', 'G', 'H', 'I', 'J', 'K', 'L', 'M', 'N', 'O', 'P', 'Q', 'R', 'S', 'T', 'U', 'V', 'W', 'X', 'Y', 'Z']\n",
        "lowalp = ['a', 'b', 'c', 'd', 'e', 'f', 'g', 'h', 'i', 'j', 'k', 'l', 'm', 'n', 'o', 'p', 'q', 'r', 's', 't', 'u', 'v', 'w', 'x', 'y', 'z']\n",
        "num = [\"0\",\"1\",\"2\",\"3\",\"4\",\"5\",\"6\",\"7\",\"8\",\"9\"]\n",
        "sym = ['!', '@', '#', '$', '%', '&', '*', '(', ')', '-', '_', '+', '=', '[', ']', '{', '}', '|', '\\\\',\n",
        "           '/', ':', ';', '\"', \"'\", '.', ',', '?',\"<\", \">\", '~']\n",
        "space = [\" \"]\n",
        "newspace = [\"^\", \"`\"]\n",
        "\n",
        "def caesar(x,y,z):\n",
        "  cipher = \"\"\n",
        "  for i in text:\n",
        "    if choice == \"encrypt\":\n",
        "      if i in upalp:\n",
        "        loc = upalp.index(i)\n",
        "        newloc = (loc + z)%26\n",
        "        newi = upalp[newloc]\n",
        "        cipher += newi\n",
        "      elif i in lowalp:\n",
        "        loc = lowalp.index(i)\n",
        "        newloc = (loc + z)%26\n",
        "        newi = lowalp[newloc]\n",
        "        cipher += newi\n",
        "      elif i in num:\n",
        "        loc = num.index(i)\n",
        "        newloc = (loc + z)%10\n",
        "        newi = num[newloc]\n",
        "        cipher += newi\n",
        "      elif i in sym:\n",
        "        loc = sym.index(i)\n",
        "        newloc = (loc + z)%31\n",
        "        newi = sym[newloc]\n",
        "        cipher += newi\n",
        "      elif i in space:\n",
        "        if shift%2 == 0:\n",
        "          cipher += \"^\"\n",
        "        else:\n",
        "          cipher += \"`\"\n",
        "    elif choice == \"decrypt\":\n",
        "      if i in upalp:\n",
        "        loc = upalp.index(i)\n",
        "        newloc = (loc - z)%26\n",
        "        newi = upalp[newloc]\n",
        "        cipher += newi\n",
        "      elif i in lowalp:\n",
        "        loc = lowalp.index(i)\n",
        "        newloc = (loc - z)%26\n",
        "        newi = lowalp[newloc]\n",
        "        cipher += newi\n",
        "      elif i in num:\n",
        "        loc = num.index(i)\n",
        "        newloc = (loc - z)%10\n",
        "        newi = num[newloc]\n",
        "        cipher += newi\n",
        "      elif i in sym:\n",
        "        loc = sym.index(i)\n",
        "        newloc = (loc - z)%31\n",
        "        newi = sym[newloc]\n",
        "        cipher += newi\n",
        "      elif i in newspace:\n",
        "        cipher += \" \"\n",
        "\n",
        "  print(f\"The {choice}ed text is:\\n{cipher}\")\n",
        "\n",
        "while True:\n",
        "  choice = input('Do you want to encrypt or decrypt:\\n').lower()\n",
        "  if choice not in [\"encrypt\", \"decrypt\"]:\n",
        "    print(\"Invalid entry\")\n",
        "    continue\n",
        "  text = input('Enter the text:\\n')\n",
        "  shift = int(input(\"Enter shift value:\\n\"))\n",
        "  caesar(x = choice,y = text,z = shift)\n",
        "  result = input(\"Continue?(Yes\\\\No):\\n\").lower()\n",
        "  if result == \"no\":\n",
        "    break"
      ]
    }
  ]
}